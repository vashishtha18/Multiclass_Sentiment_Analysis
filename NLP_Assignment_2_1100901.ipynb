{
  "nbformat": 4,
  "nbformat_minor": 0,
  "metadata": {
    "colab": {
      "name": "NLP_Assignment_2_1100901.ipynb",
      "provenance": [],
      "collapsed_sections": [],
      "toc_visible": true
    },
    "kernelspec": {
      "name": "python3",
      "display_name": "Python 3"
    },
    "accelerator": "GPU"
  },
  "cells": [
    {
      "cell_type": "code",
      "metadata": {
        "id": "GhZ-SKnmSUR-",
        "colab_type": "code",
        "outputId": "79103ff2-f8c4-401e-9431-f7eff75ff993",
        "colab": {
          "base_uri": "https://localhost:8080/",
          "height": 136
        }
      },
      "source": [
        "# Imported the necessary libraries\n",
        "import tensorflow.compat.v1 as tf\n",
        "tf.disable_v2_behavior()\n",
        "# Import the pandas library to read our dataset \n",
        "import pandas as pd\n",
        "# Get the train/test split package from sklearn for preparing our dataset to # train and test the model with \n",
        "from sklearn.model_selection import train_test_split\n",
        "# Import the numpy library to work with and manipulate the data \n",
        "# Get the train/test split package from sklearn for preparing our dataset to\n",
        "# train and test the model with\n",
        "from sklearn.model_selection import train_test_split\n",
        "import numpy as np\n",
        "import seaborn as sns\n",
        "import matplotlib.pyplot as plt\n",
        "sns.set(color_codes=True)\n",
        "import csv\n",
        "import urllib.request as urllib2\n",
        "from nltk import FreqDist\n",
        "import nltk \n",
        "import random \n",
        "from nltk.tokenize import word_tokenize\n",
        "import keras\n",
        "from keras.datasets import mnist\n",
        "from keras.models import Sequential\n",
        "from keras.layers import Dense, Dropout, Flatten\n",
        "from keras.layers import Conv1D, MaxPooling1D\n",
        "from keras import backend as K\n",
        "from keras.preprocessing import sequence,text\n",
        "from keras.preprocessing.text import Tokenizer\n",
        "from keras.layers import Input, Dense, Embedding, Flatten\n",
        "from keras.layers import SpatialDropout1D\n",
        "from keras.layers.convolutional import Conv1D, MaxPooling1D\n",
        "from sklearn.feature_extraction.text import CountVectorizer , TfidfVectorizer\n",
        "from keras.utils import to_categorical\n",
        "import time\n",
        "\n",
        "nltk.download('punkt') \n",
        "nltk.download('stopwords') \n",
        "#nltk.download('movie_reviews') \n",
        "nltk.download('wordnet') "
      ],
      "execution_count": 54,
      "outputs": [
        {
          "output_type": "stream",
          "text": [
            "[nltk_data] Downloading package punkt to /root/nltk_data...\n",
            "[nltk_data]   Package punkt is already up-to-date!\n",
            "[nltk_data] Downloading package stopwords to /root/nltk_data...\n",
            "[nltk_data]   Package stopwords is already up-to-date!\n",
            "[nltk_data] Downloading package wordnet to /root/nltk_data...\n",
            "[nltk_data]   Package wordnet is already up-to-date!\n"
          ],
          "name": "stdout"
        },
        {
          "output_type": "execute_result",
          "data": {
            "text/plain": [
              "True"
            ]
          },
          "metadata": {
            "tags": []
          },
          "execution_count": 54
        }
      ]
    },
    {
      "cell_type": "code",
      "metadata": {
        "id": "hzgCW0E6SZQe",
        "colab_type": "code",
        "outputId": "d1645392-761a-423c-f3ee-93d364c9aba8",
        "colab": {
          "base_uri": "https://localhost:8080/",
          "height": 204
        }
      },
      "source": [
        "# Importing data using url\n",
        "url = 'https://raw.githubusercontent.com/cacoderquan/Sentiment-Analysis-on-the-Rotten-Tomatoes-movie-review-dataset/master/train.tsv'\n",
        "response = urllib2.urlopen(url)\n",
        "\n",
        "# reading data using pandas and converting into dataframe\n",
        "df = pd.read_csv(response,delimiter='\\t',encoding='utf-8')\n",
        "df.head()\n"
      ],
      "execution_count": 55,
      "outputs": [
        {
          "output_type": "execute_result",
          "data": {
            "text/html": [
              "<div>\n",
              "<style scoped>\n",
              "    .dataframe tbody tr th:only-of-type {\n",
              "        vertical-align: middle;\n",
              "    }\n",
              "\n",
              "    .dataframe tbody tr th {\n",
              "        vertical-align: top;\n",
              "    }\n",
              "\n",
              "    .dataframe thead th {\n",
              "        text-align: right;\n",
              "    }\n",
              "</style>\n",
              "<table border=\"1\" class=\"dataframe\">\n",
              "  <thead>\n",
              "    <tr style=\"text-align: right;\">\n",
              "      <th></th>\n",
              "      <th>PhraseId</th>\n",
              "      <th>SentenceId</th>\n",
              "      <th>Phrase</th>\n",
              "      <th>Sentiment</th>\n",
              "    </tr>\n",
              "  </thead>\n",
              "  <tbody>\n",
              "    <tr>\n",
              "      <th>0</th>\n",
              "      <td>1</td>\n",
              "      <td>1</td>\n",
              "      <td>A series of escapades demonstrating the adage ...</td>\n",
              "      <td>1</td>\n",
              "    </tr>\n",
              "    <tr>\n",
              "      <th>1</th>\n",
              "      <td>2</td>\n",
              "      <td>1</td>\n",
              "      <td>A series of escapades demonstrating the adage ...</td>\n",
              "      <td>2</td>\n",
              "    </tr>\n",
              "    <tr>\n",
              "      <th>2</th>\n",
              "      <td>3</td>\n",
              "      <td>1</td>\n",
              "      <td>A series</td>\n",
              "      <td>2</td>\n",
              "    </tr>\n",
              "    <tr>\n",
              "      <th>3</th>\n",
              "      <td>4</td>\n",
              "      <td>1</td>\n",
              "      <td>A</td>\n",
              "      <td>2</td>\n",
              "    </tr>\n",
              "    <tr>\n",
              "      <th>4</th>\n",
              "      <td>5</td>\n",
              "      <td>1</td>\n",
              "      <td>series</td>\n",
              "      <td>2</td>\n",
              "    </tr>\n",
              "  </tbody>\n",
              "</table>\n",
              "</div>"
            ],
            "text/plain": [
              "   PhraseId  ...  Sentiment\n",
              "0         1  ...          1\n",
              "1         2  ...          2\n",
              "2         3  ...          2\n",
              "3         4  ...          2\n",
              "4         5  ...          2\n",
              "\n",
              "[5 rows x 4 columns]"
            ]
          },
          "metadata": {
            "tags": []
          },
          "execution_count": 55
        }
      ]
    },
    {
      "cell_type": "code",
      "metadata": {
        "id": "uDU5qDu_Sbj2",
        "colab_type": "code",
        "outputId": "cb7f65b8-5e80-44c3-8d5f-e08120af0182",
        "colab": {
          "base_uri": "https://localhost:8080/",
          "height": 204
        }
      },
      "source": [
        "df = df.sample(frac=1).reset_index(drop=True)\n",
        "df.head()# printing first 5 rows on dataset"
      ],
      "execution_count": 56,
      "outputs": [
        {
          "output_type": "execute_result",
          "data": {
            "text/html": [
              "<div>\n",
              "<style scoped>\n",
              "    .dataframe tbody tr th:only-of-type {\n",
              "        vertical-align: middle;\n",
              "    }\n",
              "\n",
              "    .dataframe tbody tr th {\n",
              "        vertical-align: top;\n",
              "    }\n",
              "\n",
              "    .dataframe thead th {\n",
              "        text-align: right;\n",
              "    }\n",
              "</style>\n",
              "<table border=\"1\" class=\"dataframe\">\n",
              "  <thead>\n",
              "    <tr style=\"text-align: right;\">\n",
              "      <th></th>\n",
              "      <th>PhraseId</th>\n",
              "      <th>SentenceId</th>\n",
              "      <th>Phrase</th>\n",
              "      <th>Sentiment</th>\n",
              "    </tr>\n",
              "  </thead>\n",
              "  <tbody>\n",
              "    <tr>\n",
              "      <th>0</th>\n",
              "      <td>13988</td>\n",
              "      <td>602</td>\n",
              "      <td>an almost feature-length film</td>\n",
              "      <td>2</td>\n",
              "    </tr>\n",
              "    <tr>\n",
              "      <th>1</th>\n",
              "      <td>30234</td>\n",
              "      <td>1404</td>\n",
              "      <td>has a caffeinated , sloppy brilliance , sparkl...</td>\n",
              "      <td>2</td>\n",
              "    </tr>\n",
              "    <tr>\n",
              "      <th>2</th>\n",
              "      <td>15796</td>\n",
              "      <td>677</td>\n",
              "      <td>sure hand</td>\n",
              "      <td>3</td>\n",
              "    </tr>\n",
              "    <tr>\n",
              "      <th>3</th>\n",
              "      <td>103594</td>\n",
              "      <td>5464</td>\n",
              "      <td>The sight of the name Bruce Willis</td>\n",
              "      <td>2</td>\n",
              "    </tr>\n",
              "    <tr>\n",
              "      <th>4</th>\n",
              "      <td>76365</td>\n",
              "      <td>3922</td>\n",
              "      <td>Sheridan 's</td>\n",
              "      <td>2</td>\n",
              "    </tr>\n",
              "  </tbody>\n",
              "</table>\n",
              "</div>"
            ],
            "text/plain": [
              "   PhraseId  ...  Sentiment\n",
              "0     13988  ...          2\n",
              "1     30234  ...          2\n",
              "2     15796  ...          3\n",
              "3    103594  ...          2\n",
              "4     76365  ...          2\n",
              "\n",
              "[5 rows x 4 columns]"
            ]
          },
          "metadata": {
            "tags": []
          },
          "execution_count": 56
        }
      ]
    },
    {
      "cell_type": "code",
      "metadata": {
        "id": "I09uWbN4SfNm",
        "colab_type": "code",
        "outputId": "cd66773f-3a02-4c9b-f009-930f72866bb7",
        "colab": {
          "base_uri": "https://localhost:8080/",
          "height": 306
        }
      },
      "source": [
        "X_train, X_test, Y_train, Y_test = train_test_split(df ['Phrase'], df ['Sentiment'], test_size=0.3, random_state=2003)#spliting dataset\n",
        "documents=[]\n",
        "X_train = np.array(X_train.values.tolist())\n",
        "Y_train = np.array(Y_train.values.tolist())\n",
        "\n",
        "\n",
        "for i in range(len(X_train)):\n",
        "  documents.append([list(word_tokenize(X_train[i])), Y_train[i]]) \n",
        "\n",
        "X_test = np.array(X_test.values.tolist())\n",
        "Y_test = np.array(Y_test.values.tolist())\n",
        "for i in range(len(X_test)):\n",
        "  documents.append([list(word_tokenize(X_test[i])), Y_test[i]]) \n",
        "\n",
        "documents[0]"
      ],
      "execution_count": 57,
      "outputs": [
        {
          "output_type": "execute_result",
          "data": {
            "text/plain": [
              "[['Really',\n",
              "  'is',\n",
              "  'a',\n",
              "  'pan-American',\n",
              "  'movie',\n",
              "  ',',\n",
              "  'with',\n",
              "  'moments',\n",
              "  'of',\n",
              "  'genuine',\n",
              "  'insight',\n",
              "  'into',\n",
              "  'the',\n",
              "  'urban',\n",
              "  'heart',\n",
              "  '.'],\n",
              " 3]"
            ]
          },
          "metadata": {
            "tags": []
          },
          "execution_count": 57
        }
      ]
    },
    {
      "cell_type": "code",
      "metadata": {
        "id": "H6ccNGN3WvQY",
        "colab_type": "code",
        "colab": {}
      },
      "source": [
        "from nltk.corpus import stopwords \n",
        "from nltk.stem import WordNetLemmatizer, PorterStemmer, LancasterStemmer \n",
        "porter = PorterStemmer() \n",
        "lancaster=LancasterStemmer() \n",
        "wordnet_lemmatizer = WordNetLemmatizer() \n",
        "stopwords_en = stopwords.words(\"english\") \n",
        "punctuations=\"?:!.,;'\\\"-()\"\n",
        "#parameters to adjust to see the impact on outcome \n",
        "remove_stopwords = True\n",
        "useStemming = False\n",
        "useLemma = False\n",
        "removePuncs = True\n"
      ],
      "execution_count": 0,
      "outputs": []
    },
    {
      "cell_type": "code",
      "metadata": {
        "id": "wibkp1lHWxuf",
        "colab_type": "code",
        "outputId": "456e945c-aead-4fdc-9ecf-da326bb82190",
        "colab": {
          "base_uri": "https://localhost:8080/",
          "height": 34
        }
      },
      "source": [
        "for l in range(len(documents)):                   #For each review document \n",
        "  label = documents[l][1]                         #Save review label \n",
        "  tmpReview = []                                  #Placeholder list for new review \n",
        "  for w in documents[l][0]:                       #For each word this is review \n",
        "    newWord = w                                   #Set newWork to be the updated word \n",
        "    if remove_stopwords and (w in stopwords_en):  #if the word is a stopword & we want to remove stopwords \n",
        "      continue                                    #skip the word and don’t had it to the normalized review \n",
        "    if removePuncs and (w in punctuations):       #if the word is a punc. & we want to remove punctuations \n",
        "      continue                                    #skip the word and don’t had it to the normalized review \n",
        "    if useStemming:\n",
        "      #if useStemming is set to True \n",
        "      #Keep one stemmer commented out \n",
        "      #newWord = porter.stem(newWord) #User porter stemmer \n",
        "      newWord = lancaster.stem(newWord) #Use Lancaster stemmer \n",
        "    if useLemma: \n",
        "      newWord = wordnet_lemmatizer.lemmatize(newWord) \n",
        "    tmpReview.append(newWord)                     #Add normalized word to the tmp review \n",
        "  documents[l] = (tmpReview, label)             #Update the reviews list with clean review \n",
        "  documents[l] = (' '.join(tmpReview), label) \n",
        "\n",
        "print(documents[0])"
      ],
      "execution_count": 59,
      "outputs": [
        {
          "output_type": "stream",
          "text": [
            "('Really pan-American movie moments genuine insight urban heart', 3)\n"
          ],
          "name": "stdout"
        }
      ]
    },
    {
      "cell_type": "code",
      "metadata": {
        "id": "InPVUfgzWztX",
        "colab_type": "code",
        "outputId": "33c2b319-7c9a-4cec-cdc0-f02b1cbf6e39",
        "colab": {
          "base_uri": "https://localhost:8080/",
          "height": 204
        }
      },
      "source": [
        "df = pd.DataFrame(documents, columns=['text', 'sentiment']) \n",
        "df.head()\n",
        "\n"
      ],
      "execution_count": 60,
      "outputs": [
        {
          "output_type": "execute_result",
          "data": {
            "text/html": [
              "<div>\n",
              "<style scoped>\n",
              "    .dataframe tbody tr th:only-of-type {\n",
              "        vertical-align: middle;\n",
              "    }\n",
              "\n",
              "    .dataframe tbody tr th {\n",
              "        vertical-align: top;\n",
              "    }\n",
              "\n",
              "    .dataframe thead th {\n",
              "        text-align: right;\n",
              "    }\n",
              "</style>\n",
              "<table border=\"1\" class=\"dataframe\">\n",
              "  <thead>\n",
              "    <tr style=\"text-align: right;\">\n",
              "      <th></th>\n",
              "      <th>text</th>\n",
              "      <th>sentiment</th>\n",
              "    </tr>\n",
              "  </thead>\n",
              "  <tbody>\n",
              "    <tr>\n",
              "      <th>0</th>\n",
              "      <td>Really pan-American movie moments genuine insi...</td>\n",
              "      <td>3</td>\n",
              "    </tr>\n",
              "    <tr>\n",
              "      <th>1</th>\n",
              "      <td>way</td>\n",
              "      <td>2</td>\n",
              "    </tr>\n",
              "    <tr>\n",
              "      <th>2</th>\n",
              "      <td>strands</td>\n",
              "      <td>2</td>\n",
              "    </tr>\n",
              "    <tr>\n",
              "      <th>3</th>\n",
              "      <td>compelling storyline</td>\n",
              "      <td>4</td>\n",
              "    </tr>\n",
              "    <tr>\n",
              "      <th>4</th>\n",
              "      <td>pointless meandering</td>\n",
              "      <td>0</td>\n",
              "    </tr>\n",
              "  </tbody>\n",
              "</table>\n",
              "</div>"
            ],
            "text/plain": [
              "                                                text  sentiment\n",
              "0  Really pan-American movie moments genuine insi...          3\n",
              "1                                                way          2\n",
              "2                                            strands          2\n",
              "3                               compelling storyline          4\n",
              "4                               pointless meandering          0"
            ]
          },
          "metadata": {
            "tags": []
          },
          "execution_count": 60
        }
      ]
    },
    {
      "cell_type": "code",
      "metadata": {
        "id": "OSoEouQN83iF",
        "colab_type": "code",
        "colab": {}
      },
      "source": [
        "#X_train, X_test, Y_train, Y_test = train_test_split(df['text'],  df['sentiment'], test_size=0.3, random_state=2003)"
      ],
      "execution_count": 0,
      "outputs": []
    },
    {
      "cell_type": "code",
      "metadata": {
        "id": "7gaF2YPvUH7W",
        "colab_type": "code",
        "colab": {}
      },
      "source": [
        "\n",
        "vectorizer = TfidfVectorizer(max_features = 2500)#,ngram_range=(2, 2)) \n",
        "X = vectorizer.fit_transform(df[\"text\"]) \n",
        "Y = df['sentiment'] \n",
        " \n",
        "X_train = vectorizer.transform(X_train).toarray()\n",
        "Y_train = Y_train \n",
        "X_test = vectorizer.transform(X_test).toarray()\n",
        "Y_test = Y_test\n"
      ],
      "execution_count": 0,
      "outputs": []
    },
    {
      "cell_type": "code",
      "metadata": {
        "id": "i_mDKmY2WSch",
        "colab_type": "code",
        "outputId": "aafd092b-6660-47c5-ff0e-65d6589adef0",
        "colab": {
          "base_uri": "https://localhost:8080/",
          "height": 34
        }
      },
      "source": [
        "Y_test"
      ],
      "execution_count": 63,
      "outputs": [
        {
          "output_type": "execute_result",
          "data": {
            "text/plain": [
              "array([2, 3, 3, ..., 4, 2, 2])"
            ]
          },
          "metadata": {
            "tags": []
          },
          "execution_count": 63
        }
      ]
    },
    {
      "cell_type": "code",
      "metadata": {
        "id": "Rx8g8sDt2IbI",
        "colab_type": "code",
        "colab": {}
      },
      "source": [
        "#function for Recall\n",
        "def recall_m(y_true, y_pred):\n",
        "    true_positives = K.sum(K.round(K.clip(y_true * y_pred, 0, 1)))\n",
        "    possible_positives = K.sum(K.round(K.clip(y_true, 0, 1)))\n",
        "    recall = true_positives / (possible_positives + K.epsilon())\n",
        "    return recall\n",
        "#function for Precision\n",
        "def precision_m(y_true, y_pred):\n",
        "    true_positives = K.sum(K.round(K.clip(y_true * y_pred, 0, 1)))\n",
        "    predicted_positives = K.sum(K.round(K.clip(y_pred, 0, 1)))\n",
        "    precision = true_positives / (predicted_positives + K.epsilon())\n",
        "    return precision\n",
        "#function for F1 Score\n",
        "def f1_m(y_true, y_pred):\n",
        "    precision = precision_m(y_true, y_pred)\n",
        "    recall = recall_m(y_true, y_pred)\n",
        "    return 2*((precision*recall)/(precision+recall+K.epsilon()))\n"
      ],
      "execution_count": 0,
      "outputs": []
    },
    {
      "cell_type": "code",
      "metadata": {
        "id": "DfzeNFfVU4rk",
        "colab_type": "code",
        "colab": {}
      },
      "source": [
        "batch_size = 128\n",
        "num_classes = 5\n",
        "epochs = 15"
      ],
      "execution_count": 0,
      "outputs": []
    },
    {
      "cell_type": "code",
      "metadata": {
        "id": "r5AlEWbzSCMP",
        "colab_type": "code",
        "outputId": "f4aa997e-5aa2-478a-d7a2-dd4126d02ca8",
        "colab": {
          "base_uri": "https://localhost:8080/",
          "height": 34
        }
      },
      "source": [
        "X_train.shape\n"
      ],
      "execution_count": 66,
      "outputs": [
        {
          "output_type": "execute_result",
          "data": {
            "text/plain": [
              "(109242, 2500)"
            ]
          },
          "metadata": {
            "tags": []
          },
          "execution_count": 66
        }
      ]
    },
    {
      "cell_type": "code",
      "metadata": {
        "id": "vBxQFt--fHT1",
        "colab_type": "code",
        "colab": {}
      },
      "source": [
        "Y_train = keras.utils.to_categorical(Y_train, num_classes)\n",
        "Y_test = keras.utils.to_categorical(Y_test, num_classes)\n"
      ],
      "execution_count": 0,
      "outputs": []
    },
    {
      "cell_type": "code",
      "metadata": {
        "id": "tXPLB7fDfIQt",
        "colab_type": "code",
        "outputId": "b976c6b8-f2b7-4e53-cb9e-b2966dce0d1d",
        "colab": {
          "base_uri": "https://localhost:8080/",
          "height": 136
        }
      },
      "source": [
        "Y_test"
      ],
      "execution_count": 68,
      "outputs": [
        {
          "output_type": "execute_result",
          "data": {
            "text/plain": [
              "array([[0., 0., 1., 0., 0.],\n",
              "       [0., 0., 0., 1., 0.],\n",
              "       [0., 0., 0., 1., 0.],\n",
              "       ...,\n",
              "       [0., 0., 0., 0., 1.],\n",
              "       [0., 0., 1., 0., 0.],\n",
              "       [0., 0., 1., 0., 0.]], dtype=float32)"
            ]
          },
          "metadata": {
            "tags": []
          },
          "execution_count": 68
        }
      ]
    },
    {
      "cell_type": "code",
      "metadata": {
        "id": "B5ToySXMU87V",
        "colab_type": "code",
        "colab": {}
      },
      "source": [
        "model = Sequential()\n",
        "model.add(Conv1D(filters=64, kernel_size=5, activation='relu', input_shape=(2500,1)))\n",
        "model.add(Conv1D(128, kernel_size=5, activation='relu'))\n",
        "model.add(Conv1D(128, kernel_size=5, activation='relu'))\n",
        "model.add(MaxPooling1D(pool_size=1))\n",
        "model.add(Flatten())\n",
        "model.add(Dense(num_classes, activation='softmax'))\n"
      ],
      "execution_count": 0,
      "outputs": []
    },
    {
      "cell_type": "code",
      "metadata": {
        "id": "HA3I6AgtgMaN",
        "colab_type": "code",
        "colab": {}
      },
      "source": [
        "model.compile(loss=keras.losses.categorical_crossentropy, #compiling model\n",
        "              optimizer=keras.optimizers.Adamax(), \n",
        "              metrics=['accuracy',f1_m,precision_m, recall_m])"
      ],
      "execution_count": 0,
      "outputs": []
    },
    {
      "cell_type": "code",
      "metadata": {
        "id": "-rXqFVIQiS-j",
        "colab_type": "code",
        "colab": {}
      },
      "source": [
        "X_train = X_train.reshape(X_train.shape[0], X_train.shape[1], 1)\n",
        "X_test = X_test.reshape(X_test.shape[0], X_test.shape[1], 1)\n"
      ],
      "execution_count": 0,
      "outputs": []
    },
    {
      "cell_type": "code",
      "metadata": {
        "id": "2sDSZ7J2ViP8",
        "colab_type": "code",
        "outputId": "ee4265bd-6a1f-4d6b-ffd6-cceffc003219",
        "colab": {
          "base_uri": "https://localhost:8080/",
          "height": 768
        }
      },
      "source": [
        "\n",
        "history= model.fit(X_train, Y_train, batch_size=128, epochs=20, validation_data=(X_test, Y_test))\n",
        "\n",
        "score = model.evaluate(X_test, Y_test, verbose=0)\n",
        "print('Test loss:', score[0])\n",
        "print('Test accuracy:', score[1])"
      ],
      "execution_count": 72,
      "outputs": [
        {
          "output_type": "stream",
          "text": [
            "Train on 109242 samples, validate on 46818 samples\n",
            "Epoch 1/20\n",
            "109242/109242 [==============================] - 56s 517us/step - loss: 1.0669 - acc: 0.5803 - f1_m: 0.5212 - precision_m: 0.6496 - recall_m: 0.4395 - val_loss: 0.9991 - val_acc: 0.6053 - val_f1_m: 0.5598 - val_precision_m: 0.6783 - val_recall_m: 0.4772\n",
            "Epoch 2/20\n",
            "109242/109242 [==============================] - 56s 513us/step - loss: 0.9572 - acc: 0.6218 - f1_m: 0.5885 - precision_m: 0.6837 - recall_m: 0.5173 - val_loss: 0.9867 - val_acc: 0.6098 - val_f1_m: 0.5753 - val_precision_m: 0.6721 - val_recall_m: 0.5035\n",
            "Epoch 3/20\n",
            "109242/109242 [==============================] - 56s 513us/step - loss: 0.9352 - acc: 0.6289 - f1_m: 0.5998 - precision_m: 0.6879 - recall_m: 0.5324 - val_loss: 0.9878 - val_acc: 0.6101 - val_f1_m: 0.5802 - val_precision_m: 0.6613 - val_recall_m: 0.5173\n",
            "Epoch 4/20\n",
            "109242/109242 [==============================] - 56s 514us/step - loss: 0.9186 - acc: 0.6338 - f1_m: 0.6060 - precision_m: 0.6900 - recall_m: 0.5410 - val_loss: 0.9802 - val_acc: 0.6138 - val_f1_m: 0.5863 - val_precision_m: 0.6640 - val_recall_m: 0.5254\n",
            "Epoch 5/20\n",
            "109242/109242 [==============================] - 56s 509us/step - loss: 0.9032 - acc: 0.6411 - f1_m: 0.6138 - precision_m: 0.6938 - recall_m: 0.5509 - val_loss: 0.9798 - val_acc: 0.6131 - val_f1_m: 0.5843 - val_precision_m: 0.6675 - val_recall_m: 0.5200\n",
            "Epoch 6/20\n",
            "109242/109242 [==============================] - 55s 505us/step - loss: 0.8893 - acc: 0.6464 - f1_m: 0.6208 - precision_m: 0.6985 - recall_m: 0.5593 - val_loss: 0.9844 - val_acc: 0.6134 - val_f1_m: 0.5779 - val_precision_m: 0.6689 - val_recall_m: 0.5093\n",
            "Epoch 7/20\n",
            "109242/109242 [==============================] - 55s 507us/step - loss: 0.8786 - acc: 0.6505 - f1_m: 0.6265 - precision_m: 0.7012 - recall_m: 0.5668 - val_loss: 0.9852 - val_acc: 0.6150 - val_f1_m: 0.5896 - val_precision_m: 0.6642 - val_recall_m: 0.5305\n",
            "Epoch 8/20\n",
            "109242/109242 [==============================] - 55s 507us/step - loss: 0.8693 - acc: 0.6548 - f1_m: 0.6316 - precision_m: 0.7042 - recall_m: 0.5731 - val_loss: 0.9859 - val_acc: 0.6158 - val_f1_m: 0.5886 - val_precision_m: 0.6667 - val_recall_m: 0.5273\n",
            "Epoch 9/20\n",
            "109242/109242 [==============================] - 55s 506us/step - loss: 0.8595 - acc: 0.6585 - f1_m: 0.6365 - precision_m: 0.7061 - recall_m: 0.5799 - val_loss: 0.9949 - val_acc: 0.6178 - val_f1_m: 0.5960 - val_precision_m: 0.6574 - val_recall_m: 0.5455\n",
            "Epoch 10/20\n",
            "109242/109242 [==============================] - 55s 505us/step - loss: 0.8512 - acc: 0.6626 - f1_m: 0.6396 - precision_m: 0.7076 - recall_m: 0.5841 - val_loss: 1.0049 - val_acc: 0.6150 - val_f1_m: 0.5912 - val_precision_m: 0.6578 - val_recall_m: 0.5373\n",
            "Epoch 11/20\n",
            "109242/109242 [==============================] - 55s 505us/step - loss: 0.8448 - acc: 0.6632 - f1_m: 0.6434 - precision_m: 0.7092 - recall_m: 0.5894 - val_loss: 1.0108 - val_acc: 0.6187 - val_f1_m: 0.6018 - val_precision_m: 0.6539 - val_recall_m: 0.5577\n",
            "Epoch 12/20\n",
            "109242/109242 [==============================] - 55s 503us/step - loss: 0.8374 - acc: 0.6664 - f1_m: 0.6458 - precision_m: 0.7110 - recall_m: 0.5921 - val_loss: 1.0074 - val_acc: 0.6187 - val_f1_m: 0.6019 - val_precision_m: 0.6560 - val_recall_m: 0.5565\n",
            "Epoch 13/20\n",
            "109242/109242 [==============================] - 55s 503us/step - loss: 0.8303 - acc: 0.6694 - f1_m: 0.6505 - precision_m: 0.7134 - recall_m: 0.5982 - val_loss: 1.0030 - val_acc: 0.6200 - val_f1_m: 0.6010 - val_precision_m: 0.6603 - val_recall_m: 0.5519\n",
            "Epoch 14/20\n",
            "109242/109242 [==============================] - 55s 502us/step - loss: 0.8239 - acc: 0.6726 - f1_m: 0.6538 - precision_m: 0.7153 - recall_m: 0.6025 - val_loss: 0.9986 - val_acc: 0.6167 - val_f1_m: 0.5909 - val_precision_m: 0.6629 - val_recall_m: 0.5335\n",
            "Epoch 15/20\n",
            "109242/109242 [==============================] - 55s 503us/step - loss: 0.8178 - acc: 0.6740 - f1_m: 0.6561 - precision_m: 0.7168 - recall_m: 0.6053 - val_loss: 1.0104 - val_acc: 0.6148 - val_f1_m: 0.5907 - val_precision_m: 0.6601 - val_recall_m: 0.5350\n",
            "Epoch 16/20\n",
            "109242/109242 [==============================] - 55s 507us/step - loss: 0.8121 - acc: 0.6762 - f1_m: 0.6592 - precision_m: 0.7188 - recall_m: 0.6092 - val_loss: 1.0214 - val_acc: 0.6170 - val_f1_m: 0.6006 - val_precision_m: 0.6553 - val_recall_m: 0.5547\n",
            "Epoch 17/20\n",
            "109242/109242 [==============================] - 55s 506us/step - loss: 0.8050 - acc: 0.6792 - f1_m: 0.6622 - precision_m: 0.7201 - recall_m: 0.6134 - val_loss: 1.0249 - val_acc: 0.6172 - val_f1_m: 0.6003 - val_precision_m: 0.6550 - val_recall_m: 0.5544\n",
            "Epoch 18/20\n",
            "109242/109242 [==============================] - 56s 509us/step - loss: 0.7992 - acc: 0.6808 - f1_m: 0.6651 - precision_m: 0.7218 - recall_m: 0.6170 - val_loss: 1.0162 - val_acc: 0.6175 - val_f1_m: 0.5990 - val_precision_m: 0.6583 - val_recall_m: 0.5499\n",
            "Epoch 19/20\n",
            "109242/109242 [==============================] - 55s 507us/step - loss: 0.7931 - acc: 0.6845 - f1_m: 0.6681 - precision_m: 0.7238 - recall_m: 0.6208 - val_loss: 1.0315 - val_acc: 0.6173 - val_f1_m: 0.6020 - val_precision_m: 0.6554 - val_recall_m: 0.5570\n",
            "Epoch 20/20\n",
            "109242/109242 [==============================] - 55s 506us/step - loss: 0.7874 - acc: 0.6863 - f1_m: 0.6705 - precision_m: 0.7249 - recall_m: 0.6241 - val_loss: 1.0520 - val_acc: 0.6153 - val_f1_m: 0.6019 - val_precision_m: 0.6494 - val_recall_m: 0.5612\n",
            "Test loss: 1.0520331693014406\n",
            "Test accuracy: 0.6153402537485583\n"
          ],
          "name": "stdout"
        }
      ]
    },
    {
      "cell_type": "code",
      "metadata": {
        "id": "6_KSJXlcRkr5",
        "colab_type": "code",
        "colab": {}
      },
      "source": [
        "\n",
        "model.save('1100901_1dconv_reg.h5')#saving my model."
      ],
      "execution_count": 0,
      "outputs": []
    },
    {
      "cell_type": "code",
      "metadata": {
        "id": "As95z6aAPSSg",
        "colab_type": "code",
        "colab": {}
      },
      "source": [
        "from keras.models import load_model #loading my model\n",
        "model = load_model('1100901_1dconv_reg.h5', custom_objects={'recall_m': recall_m,'precision_m':precision_m,'f1_m': f1_m })"
      ],
      "execution_count": 0,
      "outputs": []
    },
    {
      "cell_type": "code",
      "metadata": {
        "id": "A7qxL1mKa3-6",
        "colab_type": "code",
        "outputId": "e0ce43d4-8342-4407-d5da-8dc1a30f488a",
        "colab": {
          "base_uri": "https://localhost:8080/",
          "height": 1000
        }
      },
      "source": [
        "import matplotlib.pyplot as plt\n",
        "evaluate = model.evaluate(X_test, Y_test, verbose=0)\n",
        "print('Model performance')# print performance of my model\n",
        "print('Accuracy:', evaluate[1])\n",
        "print(\"f1score:\", evaluate[2])\n",
        "print('Precision: ', evaluate[3])\n",
        "print(\"recall:\", evaluate[4])\n",
        "  \n",
        "v= range(0,20)\n",
        "\n",
        "training_loss = history.history['loss']\n",
        "\n",
        "testing_accuracy = history.history['val_acc']\n",
        "training_accuracy = history.history['acc']\n",
        "\n",
        "testing_f1 = history.history['val_f1_m']\n",
        "training_f1 = history.history['f1_m']\n",
        "\n",
        "testing_precision = history.history['val_precision_m']\n",
        "training_precision = history.history['precision_m']\n",
        "\n",
        "testing_recall = history.history['val_recall_m']\n",
        "training_recall = history.history['recall_m']\n",
        "\n",
        "plt.figure()\n",
        "plt.plot(v, testing_accuracy, 'r')\n",
        "plt.plot(v, training_accuracy, 'g')\n",
        "plt.title('Training and Testing Accuracy')\n",
        "plt.legend(['Testing Accuracy', 'Training Accuracy'])\n",
        "\n",
        "plt.figure()\n",
        "plt.plot(v, testing_f1, 'r')\n",
        "plt.plot(v, training_f1, 'g')\n",
        "plt.title('Training and Testing F1')\n",
        "plt.legend(['Testing F1 Score', 'Training F1 Score'])\n",
        "\n",
        "plt.figure()\n",
        "plt.plot(v, testing_precision, 'r')\n",
        "plt.plot(v, training_precision, 'g')\n",
        "plt.title('Training and Testing Precision')\n",
        "plt.legend(['Testing Precision', 'Training Precision'])\n",
        "\n",
        "plt.figure()\n",
        "plt.plot(v, testing_recall, 'r')\n",
        "plt.plot(v, training_recall, 'g')\n",
        "plt.title('Training and Testing Recall')\n",
        "plt.legend(['Testing Recall', 'Training Recall'])\n",
        "\n",
        "\n",
        "\n"
      ],
      "execution_count": 75,
      "outputs": [
        {
          "output_type": "stream",
          "text": [
            "Model performance\n",
            "Accuracy: 0.6153402537485583\n",
            "f1score: 0.6012658454651886\n",
            "Precision:  0.6490793500697629\n",
            "recall: 0.5612157717117348\n"
          ],
          "name": "stdout"
        },
        {
          "output_type": "execute_result",
          "data": {
            "text/plain": [
              "<matplotlib.legend.Legend at 0x7f697576f6d8>"
            ]
          },
          "metadata": {
            "tags": []
          },
          "execution_count": 75
        },
        {
          "output_type": "display_data",
          "data": {
            "image/png": "[encoded data removed]",
            "text/plain": [
              "<Figure size 432x288 with 1 Axes>"
            ]
          },
          "metadata": {
            "tags": []
          }
        },
        {
          "output_type": "display_data",
          "data": {
            "image/png": "[encoded data removed]",
            "text/plain": [
              "<Figure size 432x288 with 1 Axes>"
            ]
          },
          "metadata": {
            "tags": []
          }
        },
        {
          "output_type": "display_data",
          "data": {
            "image/png": "[encoded data removed]",
            "text/plain": [
              "<Figure size 432x288 with 1 Axes>"
            ]
          },
          "metadata": {
            "tags": []
          }
        },
        {
          "output_type": "display_data",
          "data": {
            "image/png": "[encoded data removed]",
            "text/plain": [
              "<Figure size 432x288 with 1 Axes>"
            ]
          },
          "metadata": {
            "tags": []
          }
        }
      ]
    }
  ]
}